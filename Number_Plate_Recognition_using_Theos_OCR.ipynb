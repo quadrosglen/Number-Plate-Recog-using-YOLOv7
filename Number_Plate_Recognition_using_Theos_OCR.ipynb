{
  "nbformat": 4,
  "nbformat_minor": 0,
  "metadata": {
    "colab": {
      "provenance": []
    },
    "kernelspec": {
      "name": "python3",
      "display_name": "Python 3"
    },
    "language_info": {
      "name": "python"
    }
  },
  "cells": [
    {
      "cell_type": "code",
      "source": [
        "!pip install utils"
      ],
      "metadata": {
        "colab": {
          "base_uri": "https://localhost:8080/"
        },
        "id": "LZ0N8oaalKUb",
        "outputId": "2c787cad-1b50-468a-ccab-ad306c349757"
      },
      "execution_count": null,
      "outputs": [
        {
          "output_type": "stream",
          "name": "stdout",
          "text": [
            "Looking in indexes: https://pypi.org/simple, https://us-python.pkg.dev/colab-wheels/public/simple/\n",
            "Collecting utils\n",
            "  Downloading utils-1.0.1-py2.py3-none-any.whl (21 kB)\n",
            "Installing collected packages: utils\n",
            "Successfully installed utils-1.0.1\n"
          ]
        }
      ]
    },
    {
      "cell_type": "code",
      "execution_count": null,
      "metadata": {
        "id": "sVGwGnj4lAdX"
      },
      "outputs": [],
      "source": [
        "import utils\n",
        "import cv2\n",
        "import time\n",
        "import os\n",
        "import requests"
      ]
    },
    {
      "cell_type": "code",
      "source": [
        "URL = 'https://inf-76370045-724e-413b-960f-6e28fa989274-no4xvrhsfq-uc.a.run.app/detect'  # Theos API URL\n",
        "OCR_MODEL = 'large'\n",
        "OCR_CLASS = 'license-plate'\n",
        "FOLDER_PATH = 'license-plates'\n",
        "seconds_to_wait = 2"
      ],
      "metadata": {
        "id": "ZWF88XrulESN"
      },
      "execution_count": null,
      "outputs": []
    },
    {
      "cell_type": "code",
      "source": [
        "img = cv2.imread('/content/Cars1.png')"
      ],
      "metadata": {
        "id": "Gnywxny3lceC"
      },
      "execution_count": null,
      "outputs": []
    },
    {
      "cell_type": "code",
      "source": [
        "_, img_encoded = cv2.imencode('.jpg', img)\n",
        "image_bytes = img_encoded.tobytes()"
      ],
      "metadata": {
        "id": "9TH64j7Go3k5"
      },
      "execution_count": null,
      "outputs": []
    },
    {
      "cell_type": "code",
      "source": [
        "response = requests.post(URL, data={'ocr_model': OCR_MODEL, 'ocr_classes': OCR_CLASS}, files={'image': image_bytes})\n",
        "if response.status_code == 200:\n",
        "    data = response.json()\n",
        "\n",
        "    if len(data) > 0:\n",
        "        license_plates = []\n",
        "\n",
        "        for detection in data:\n",
        "            if detection['class'] == OCR_CLASS and detection['text']:\n",
        "                license_plates.append(detection['text'].upper())\n",
        "\n",
        "        if len(license_plates) > 0:\n",
        "            print('License plates:', ', '.join(license_plates))"
      ],
      "metadata": {
        "colab": {
          "base_uri": "https://localhost:8080/"
        },
        "id": "Toedtn9bllzw",
        "outputId": "9f2b6624-61da-4673-9182-ce31ffb053e8"
      },
      "execution_count": null,
      "outputs": [
        {
          "output_type": "stream",
          "name": "stdout",
          "text": [
            "License plates: PG MN112\n"
          ]
        }
      ]
    },
    {
      "cell_type": "code",
      "source": [],
      "metadata": {
        "id": "ZB8G5LFxl_pv"
      },
      "execution_count": null,
      "outputs": []
    }
  ]
}